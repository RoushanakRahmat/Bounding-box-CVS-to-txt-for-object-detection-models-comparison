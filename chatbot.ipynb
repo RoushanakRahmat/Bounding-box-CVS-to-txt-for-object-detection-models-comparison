{
  "nbformat": 4,
  "nbformat_minor": 0,
  "metadata": {
    "colab": {
      "provenance": [],
      "gpuType": "T4",
      "authorship_tag": "ABX9TyN+joLz2kVQHJKsrwGhpUv4",
      "include_colab_link": true
    },
    "kernelspec": {
      "name": "python3",
      "display_name": "Python 3"
    },
    "language_info": {
      "name": "python"
    },
    "accelerator": "GPU"
  },
  "cells": [
    {
      "cell_type": "markdown",
      "metadata": {
        "id": "view-in-github",
        "colab_type": "text"
      },
      "source": [
        "<a href=\"https://colab.research.google.com/github/RoushanakRahmat/Bounding-box-CVS-to-txt-for-object-detection-models-comparison/blob/main/chatbot.ipynb\" target=\"_parent\"><img src=\"https://colab.research.google.com/assets/colab-badge.svg\" alt=\"Open In Colab\"/></a>"
      ]
    },
    {
      "cell_type": "markdown",
      "source": [
        "# AI Chatbot in Python\n",
        "1. Installing Dependencies\n",
        "2. Importing the Required Modules\n",
        "3. Preparing the Data\n",
        "4. Preprocessing the Text Data\n",
        "5. Defining and Training the Model\n",
        "6. Creating a Function to Generate Responses\n",
        "7. Interacting with the Chatbot\n",
        "8. Running the Chatbot"
      ],
      "metadata": {
        "id": "P-S81oFRmtC_"
      }
    },
    {
      "cell_type": "code",
      "source": [
        "pip install tensorflow"
      ],
      "metadata": {
        "id": "c1Tfl1UJm60G"
      },
      "execution_count": null,
      "outputs": []
    },
    {
      "cell_type": "code",
      "source": [
        "pip install nltk"
      ],
      "metadata": {
        "id": "FHFNjsX_m6vF"
      },
      "execution_count": null,
      "outputs": []
    },
    {
      "cell_type": "code",
      "source": [
        "import tensorflow as tf\n",
        "import numpy as np\n",
        "import nltk\n",
        "from nltk.stem import WordNetLemmatizer\n",
        "from tensorflow.keras.preprocessing.text import Tokenizer\n",
        "from tensorflow.keras.preprocessing.sequence import pad_sequences\n",
        "\n",
        "patterns = [\n",
        "    \"Hi\",\n",
        "    \"How are you?\",\n",
        "    \"Is anyone there?\",\n",
        "    \"Good day\",\n",
        "    \"Bye\",\n",
        "    \"Thank you\",\n",
        "    \"That's helpful\",\n",
        "    \"What hours are you open?\",\n",
        "    \"Do you accept credit cards?\",\n",
        "    \"Where can I find more information about your services?\"\n",
        "]\n",
        "\n",
        "responses = [\n",
        "    \"Hello!\",\n",
        "    \"I'm doing well, thank you.\",\n",
        "    \"Yes, I'm here. How can I help you?\",\n",
        "    \"Have a great day!\",\n",
        "    \"Goodbye!\",\n",
        "    \"You're welcome!\",\n",
        "    \"I'm glad I could assist you.\",\n",
        "    \"We are open from 9 am to 6 pm.\",\n",
        "    \"Yes, we accept credit cards.\",\n",
        "    \"You can find more information on our website.\"\n",
        "]\n",
        "\n",
        "lemmatizer = WordNetLemmatizer()\n",
        "tokenizer = Tokenizer()\n",
        "tokenizer.fit_on_texts(patterns)\n",
        "word_index = tokenizer.word_index\n",
        "\n",
        "sequences = tokenizer.texts_to_sequences(patterns)\n",
        "padded_sequences = pad_sequences(sequences)\n",
        "\n",
        "labels = []\n",
        "for response in responses:\n",
        "    labels.append(responses.index(response))\n",
        "\n",
        "model = tf.keras.models.Sequential([\n",
        "    tf.keras.layers.Embedding(len(word_index) + 1, 16, input_length=len(padded_sequences[0])),\n",
        "    tf.keras.layers.GlobalAveragePooling1D(),\n",
        "    tf.keras.layers.Dense(16, activation='relu'),\n",
        "    tf.keras.layers.Dense(len(responses), activation='softmax')\n",
        "])\n",
        "\n",
        "model.compile(loss='sparse_categorical_crossentropy', optimizer='adam', metrics=['accuracy'])\n",
        "model.fit(padded_sequences, np.array(labels), epochs=100)\n",
        "\n",
        "def generate_response(user_input):\n",
        "    input_sequence = tokenizer.texts_to_sequences([user_input])\n",
        "    padded_input = pad_sequences(input_sequence, maxlen=len(padded_sequences[0]))\n",
        "    result = model.predict(padded_input)\n",
        "    return responses[np.argmax(result)]\n",
        "\n",
        "while True:\n",
        "    user_input = input(\"You: \")\n",
        "    response = generate_response(user_input)\n",
        "    print(\"Bot:\", response)"
      ],
      "metadata": {
        "id": "XUMmRvM9sMYO"
      },
      "execution_count": null,
      "outputs": []
    }
  ]
}