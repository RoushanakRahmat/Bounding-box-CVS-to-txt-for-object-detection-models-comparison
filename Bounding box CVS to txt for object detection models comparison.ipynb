{
 "cells": [
  {
   "cell_type": "markdown",
   "metadata": {},
   "source": [
    "## Converting csv files into .txt to Compare two object detection models\n",
    "\n",
    "If the bounding box is provided in a csv format, we can convert it into .txt and for comparing the two models vesus ground truth, we can apply https://github.com/rafaelpadilla/Object-Detection-Metrics"
   ]
  },
  {
   "cell_type": "code",
   "execution_count": null,
   "metadata": {},
   "outputs": [],
   "source": [
    "# Import all the required libraries\n",
    "import os \n",
    "import glob \n",
    "import argparse\n",
    "import pandas as pd\n",
    "from pandas.core.algorithms import unique"
   ]
  },
  {
   "cell_type": "code",
   "execution_count": null,
   "metadata": {},
   "outputs": [],
   "source": [
    "# Import object_detections dataset\n",
    "path = 'data/gt_boxes.csv'\n",
    "save_text_path = 'data/GT/'\n",
    "\n",
    "path1 = 'data/model_1.csv'\n",
    "save_text_path1 = 'data//model_1/'\n",
    "\n",
    "path2 = 'data/model_2.csv'\n",
    "save_text_path2 = 'data/model_2/'"
   ]
  },
  {
   "cell_type": "code",
   "execution_count": null,
   "metadata": {},
   "outputs": [],
   "source": [
    "# converting csv files into .txt \n",
    "def convert_coordinates(size, box):\n",
    "    dw = 1.0/size[0]\n",
    "    dh = 1.0/size[1]\n",
    "    x = (box[0]+box[1])/2.0\n",
    "    y = (box[2]+box[3])/2.0\n",
    "    w = box[1]-box[0]\n",
    "    h = box[3]-box[2]\n",
    "    x = x*dw\n",
    "    w = w*dw\n",
    "    y = y*dh\n",
    "    h = h*dh\n",
    "    return (x,y,w,h)\n",
    "\n",
    "def csv_to_txt(csv_path ,out_path):\n",
    "    df = pd.read_csv(csv_path) # Read Csv \n",
    "    unique_classes = pd.unique(df['label']) # Create label map\n",
    "    labels = {}\n",
    "    for i,label in enumerate(unique_classes):\n",
    "        labels[label]=i\n",
    "    # Group rows based on filename bcz single file may have multiple annotations\n",
    "    for name, group in df.groupby('image_id'): #for name, group in df.groupby('filename'):\n",
    "        # Create filename\n",
    "        fname_out = os.path.join( out_path, str(name) + '.txt')\n",
    "        # Open txt file to write\n",
    "        with open(fname_out, \"w\") as f:\n",
    "            # Iter through each bbox\n",
    "            for row_index, row in group.iterrows():\n",
    "                xmin = row['xmin']\n",
    "                ymin = row['ymin']\n",
    "                xmax = row['xmax']\n",
    "                ymax = row['ymax']\n",
    "                width = 200\n",
    "                height = 300\n",
    "                label = row['label']  \n",
    "                score = row['score']  \n",
    "                # Get label index\n",
    "                label_str = str(labels[label])\n",
    "                b = (float(score), float(xmin), float(xmax), float(ymin), float(ymax))\n",
    "                # Convert bbox from pascal voc format to yolo txt format\n",
    "                bb = convert_coordinates((width,height), b)\n",
    "                # Write into file\n",
    "                f.write(label_str + \" \" + \" \".join([(\"%.6f\" % a) for a in b]) + '\\n')\n",
    "\n",
    "if __name__ == '__main__':\n",
    "    csv_to_txt(path , save_text_path) # ground truth\n",
    "    csv_to_txt(path1 , save_text_path1) # model 1\n",
    "    csv_to_txt(path2 , save_text_path2) # model 2"
   ]
  }
 ],
 "metadata": {
  "kernelspec": {
   "display_name": "Python 3 (ipykernel)",
   "language": "python",
   "name": "python3"
  },
  "language_info": {
   "codemirror_mode": {
    "name": "ipython",
    "version": 3
   },
   "file_extension": ".py",
   "mimetype": "text/x-python",
   "name": "python",
   "nbconvert_exporter": "python",
   "pygments_lexer": "ipython3",
   "version": "3.9.5"
  }
 },
 "nbformat": 4,
 "nbformat_minor": 4
}
